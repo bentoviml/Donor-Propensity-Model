{
 "cells": [
  {
   "cell_type": "markdown",
   "id": "5bd6ba83",
   "metadata": {},
   "source": [
    "Lee-Or Bentovim\n",
    "8/4/23"
   ]
  },
  {
   "cell_type": "markdown",
   "id": "1e3a9d53",
   "metadata": {},
   "source": [
    "In order to load connected file, run the below two cells in order. If any updates are made to helpers.py, you will need to run BOTH in order to get the updates on this page"
   ]
  },
  {
   "cell_type": "code",
   "execution_count": null,
   "id": "c12327fb",
   "metadata": {},
   "outputs": [],
   "source": [
    "%run helpers.py"
   ]
  },
  {
   "cell_type": "code",
   "execution_count": null,
   "id": "5ee9a14d",
   "metadata": {
    "scrolled": true
   },
   "outputs": [],
   "source": [
    "main()"
   ]
  },
  {
   "cell_type": "code",
   "execution_count": null,
   "id": "929c077f",
   "metadata": {},
   "outputs": [],
   "source": [
    "solicit_inputs()"
   ]
  },
  {
   "cell_type": "markdown",
   "id": "0a7ce636",
   "metadata": {},
   "source": [
    "## Below here is the data used to determine this was the best model"
   ]
  },
  {
   "cell_type": "code",
   "execution_count": null,
   "id": "daeccdb0",
   "metadata": {},
   "outputs": [],
   "source": [
    "X = model_data.drop(columns=['Amount Given','Contributed'])\n",
    "y = model_data.loc[:,'Contributed']"
   ]
  },
  {
   "cell_type": "code",
   "execution_count": null,
   "id": "22688178",
   "metadata": {},
   "outputs": [],
   "source": [
    "X_train, X_test, y_train, y_test = train_test_split(X,y, test_size=0.2, random_state=42)\n",
    "X_train, X_valid, y_train, y_valid = train_test_split(X_train, y_train, test_size=0.25, random_state=42)"
   ]
  },
  {
   "cell_type": "code",
   "execution_count": null,
   "id": "9598968b",
   "metadata": {},
   "outputs": [],
   "source": [
    "lr = LogisticRegressionCV(max_iter=1000)"
   ]
  },
  {
   "cell_type": "code",
   "execution_count": null,
   "id": "d9ef4426",
   "metadata": {},
   "outputs": [],
   "source": [
    "from imblearn.over_sampling import SMOTE\n",
    "smote = SMOTE(random_state=42)"
   ]
  },
  {
   "cell_type": "code",
   "execution_count": null,
   "id": "ee526ae1",
   "metadata": {},
   "outputs": [],
   "source": [
    "X_train_oversampled, y_train_oversampled = smote.fit_resample(X_train, y_train)"
   ]
  },
  {
   "cell_type": "code",
   "execution_count": null,
   "id": "6e36158d",
   "metadata": {},
   "outputs": [],
   "source": [
    "lr.fit(X_train_oversampled, y_train_oversampled)"
   ]
  },
  {
   "cell_type": "code",
   "execution_count": null,
   "id": "309a442d",
   "metadata": {},
   "outputs": [],
   "source": [
    "y_pred = lr.predict(X_test)"
   ]
  },
  {
   "cell_type": "code",
   "execution_count": null,
   "id": "fb2f0c08",
   "metadata": {},
   "outputs": [],
   "source": [
    "pred_probs = lr.predict_proba(X_test)[:,1]"
   ]
  },
  {
   "cell_type": "code",
   "execution_count": null,
   "id": "0e85ed16",
   "metadata": {
    "scrolled": true
   },
   "outputs": [],
   "source": [
    "from sklearn.calibration import calibration_curve\n",
    "fraction_of_pos, mean_pred = calibration_curve(y_test,pred_probs)\n",
    "\n",
    "import matplotlib.pyplot as plt\n",
    "plt.plot(mean_pred, fraction_of_pos, marker='o', linestyle='-')\n",
    "plt.plot([0,1],[0,1], label='Perfect Calibration')\n",
    "plt.xlabel('Mean Predicted Probability')\n",
    "plt.ylabel('Fraction of Positive Predictions')\n",
    "plt.title('Calibration Curve')\n",
    "plt.legend()\n",
    "plt.show()"
   ]
  },
  {
   "cell_type": "code",
   "execution_count": null,
   "id": "2db5a85e",
   "metadata": {},
   "outputs": [],
   "source": [
    "from sklearn.calibration import CalibratedClassifierCV\n",
    "lr.fit(X_train_oversampled, y_train_oversampled)\n",
    "platt_calibrated_model = CalibratedClassifierCV(lr, method='sigmoid', cv='prefit')"
   ]
  },
  {
   "cell_type": "code",
   "execution_count": null,
   "id": "f530dd09",
   "metadata": {},
   "outputs": [],
   "source": [
    "platt_calibrated_model.fit(X_train_oversampled, y_train_oversampled)"
   ]
  },
  {
   "cell_type": "code",
   "execution_count": null,
   "id": "de225f62",
   "metadata": {},
   "outputs": [],
   "source": [
    "platt_calibrated_probs = platt_calibrated_model.predict_proba(X_test)[:,1]"
   ]
  },
  {
   "cell_type": "code",
   "execution_count": null,
   "id": "77bc3ffb",
   "metadata": {},
   "outputs": [],
   "source": [
    "from sklearn.isotonic import IsotonicRegression\n",
    "isotonic_model = IsotonicRegression()\n",
    "isotonic_model.fit(platt_calibrated_probs, y_test)\n",
    "final_calibrated_probs = isotonic_model.transform(platt_calibrated_probs)"
   ]
  },
  {
   "cell_type": "code",
   "execution_count": null,
   "id": "ed773a1c",
   "metadata": {},
   "outputs": [],
   "source": [
    "fraction_of_pos, mean_pred = calibration_curve(y_test,final_calibrated_probs)\n",
    "\n",
    "import matplotlib.pyplot as plt\n",
    "plt.plot(mean_pred, fraction_of_pos, marker='o', linestyle='-')\n",
    "plt.plot([0,1],[0,1], label='Perfect Calibration')\n",
    "plt.xlabel('Mean Predicted Probability')\n",
    "plt.ylabel('Fraction of Positive Predictions')\n",
    "plt.title('Calibration Curve')\n",
    "plt.legend()\n",
    "plt.show()"
   ]
  },
  {
   "cell_type": "code",
   "execution_count": null,
   "id": "dc96c430",
   "metadata": {},
   "outputs": [],
   "source": [
    "from sklearn.metrics import log_loss\n",
    "log_loss(y_test,pred_probs)"
   ]
  },
  {
   "cell_type": "code",
   "execution_count": null,
   "id": "13daa6e3",
   "metadata": {
    "scrolled": true
   },
   "outputs": [],
   "source": [
    "from sklearn.metrics import roc_curve, auc\n",
    "fpr, tpr, _ = roc_curve(y_test, final_calibrated_probs)\n",
    "roc_auc = auc(fpr,tpr)\n",
    "plt.figure()\n",
    "plt.plot(fpr, tpr, color='darkorange', lw=2, label='ROC Curve (AUC = %0.2f)' % roc_auc)\n",
    "plt.plot([0, 1], [0, 1], color='navy', lw=2, linestyle='--')\n",
    "plt.xlim([0.0,1.0])\n",
    "plt.ylim([0.0,1.05])\n",
    "plt.xlabel('False Positive Rate')\n",
    "plt.ylabel('True Positive Rate')\n",
    "plt.title('AUC ROC Curve')\n",
    "plt.show()"
   ]
  },
  {
   "cell_type": "code",
   "execution_count": null,
   "id": "2293571e",
   "metadata": {},
   "outputs": [],
   "source": [
    "sklearn.metrics.brier_score_loss(y_test, final_calibrated_probs)"
   ]
  },
  {
   "cell_type": "code",
   "execution_count": null,
   "id": "984f8d6f",
   "metadata": {},
   "outputs": [],
   "source": [
    "roc_auc"
   ]
  },
  {
   "cell_type": "code",
   "execution_count": null,
   "id": "05c126f1",
   "metadata": {},
   "outputs": [],
   "source": [
    "X_test['Predicted_Probs'] = final_calibrated_probs"
   ]
  },
  {
   "cell_type": "code",
   "execution_count": null,
   "id": "4e9f35e0",
   "metadata": {},
   "outputs": [],
   "source": [
    "X_test = X_test.sort_values('Predicted_Probs',ascending=False)"
   ]
  },
  {
   "cell_type": "code",
   "execution_count": null,
   "id": "fbf2f472",
   "metadata": {},
   "outputs": [],
   "source": [
    "X_test"
   ]
  },
  {
   "cell_type": "code",
   "execution_count": null,
   "id": "771c55cd",
   "metadata": {},
   "outputs": [],
   "source": [
    "X_test.loc[:,'Predicted_Probs'].nunique()"
   ]
  }
 ],
 "metadata": {
  "kernelspec": {
   "display_name": "Python 3 (ipykernel)",
   "language": "python",
   "name": "python3"
  },
  "language_info": {
   "codemirror_mode": {
    "name": "ipython",
    "version": 3
   },
   "file_extension": ".py",
   "mimetype": "text/x-python",
   "name": "python",
   "nbconvert_exporter": "python",
   "pygments_lexer": "ipython3",
   "version": "3.10.9"
  }
 },
 "nbformat": 4,
 "nbformat_minor": 5
}
